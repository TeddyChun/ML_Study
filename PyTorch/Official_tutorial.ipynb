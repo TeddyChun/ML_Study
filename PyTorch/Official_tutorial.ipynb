{
 "cells": [
  {
   "cell_type": "code",
   "execution_count": 1,
   "metadata": {
    "collapsed": true
   },
   "outputs": [],
   "source": [
    "import torch"
   ]
  },
  {
   "cell_type": "code",
   "execution_count": 3,
   "metadata": {
    "collapsed": true
   },
   "outputs": [],
   "source": [
    "import torchvision\n",
    "from torch.autograd import Variable "
   ]
  },
  {
   "cell_type": "markdown",
   "metadata": {},
   "source": [
    "# Pytorch #\n",
    "- Tensorflow와 비교되는 가장 큰 장점\n",
    "    - Graph의 Dynamic한 설정 ( <-> Tensorflow는 Graph를 설정한 후 Session을 돌려 계산해야하므로, 그래프가 수시로 바뀌는 경우에는 적합하지 않다\n",
    "- ## Pytorch 의 특징 ##\n",
    "    - numpy와 비슷하지만 GPU에서 동작하는 n차원 Tensor\n",
    "        - 개념상 numpy와 완전히 동일함.\n",
    "    - 뉴럴넷의 자동 빌드와 학습\n",
    "- ## Pytorch 의 컨셉 ##\n",
    "    - ### Autograd ###\n",
    "    ~~~~\n",
    "    from torch.autograd import Variable\n",
    "    ~~~~\n",
    "        - Backward Differentiation의 자동화.\n",
    "        - Autograd를 사용하면 network에의 forward pass는 computational graph를 정의하는데, 이 그래프의 각 node가 Tensor, Edge가 input으로부터 output tensor를 만드는 function이 된다.\n",
    "        \n",
    "        \n",
    "        - Tensor를 Variable 객체로 Warp한다\n",
    "        - Variable은 그래프의 Node가 된다.\n",
    "        - 만일 **x** 가 **Variable** 이라면, **x.data** 는 **Tensor** 가 된다.\n",
    "        - "
   ]
  },
  {
   "cell_type": "code",
   "execution_count": 4,
   "metadata": {
    "collapsed": true
   },
   "outputs": [],
   "source": [
    "# CPU Run\n",
    "dtype = torch.FloatTensor\n",
    "\n",
    "# GPU Run\n",
    "# dtype = torch.cuda.FloatTensor\n",
    "\n",
    "# N : Batch size, D_in, D_out : I/O dimension\n",
    "# H ; Hidden dimension \n",
    "N, D_in, H, D_out = 64, 1000, 100, 10"
   ]
  },
  {
   "cell_type": "code",
   "execution_count": 5,
   "metadata": {
    "collapsed": true
   },
   "outputs": [],
   "source": [
    "x = Variable(torch.randn(N, D_in).type(dtype), requires_grad=False)\n",
    "y = Variable(torch.randn(N, D_out).type(dtype), requires_grad=False)"
   ]
  },
  {
   "cell_type": "code",
   "execution_count": 7,
   "metadata": {
    "collapsed": true
   },
   "outputs": [],
   "source": [
    "w1 = Variable(torch.randn(D_in, H).type(dtype), requires_grad=True)\n",
    "w2 = Variable(torch.randn(H, D_out).type(dtype), requires_grad=True)\n"
   ]
  },
  {
   "cell_type": "code",
   "execution_count": 8,
   "metadata": {
    "collapsed": true
   },
   "outputs": [],
   "source": [
    "learning_rate = 1e-6\n"
   ]
  },
  {
   "cell_type": "code",
   "execution_count": null,
   "metadata": {
    "collapsed": true
   },
   "outputs": [],
   "source": [
    "for step in range(500):\n",
    "    \n",
    "    # Maxtrix Multiply\n",
    "    h = x.mm(w1) \n",
    "    h_relu = h.clamp(min=0)\n",
    "    y_pred = h_relu.mm(w2)\n",
    "    \n",
    "    loss = (y_pred - y).pow(2).sum()\n",
    "    print(step, loss)\n",
    "    \n",
    "    # Backprop\n",
    "    grad_y_pred = 2.0*(y_pred - y)\n",
    "    "
   ]
  }
 ],
 "metadata": {
  "anaconda-cloud": {},
  "kernelspec": {
   "display_name": "Python [default]",
   "language": "python",
   "name": "python3"
  },
  "language_info": {
   "codemirror_mode": {
    "name": "ipython",
    "version": 3
   },
   "file_extension": ".py",
   "mimetype": "text/x-python",
   "name": "python",
   "nbconvert_exporter": "python",
   "pygments_lexer": "ipython3",
   "version": "3.5.2"
  }
 },
 "nbformat": 4,
 "nbformat_minor": 1
}
