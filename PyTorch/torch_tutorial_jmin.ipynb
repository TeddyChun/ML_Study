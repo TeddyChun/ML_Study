{
 "cells": [
  {
   "cell_type": "code",
   "execution_count": 2,
   "metadata": {
    "collapsed": false
   },
   "outputs": [],
   "source": [
    "import torch\n",
    "import torch.nn as nn\n",
    "import torch.optim as optim\n",
    "from torch.autograd import Variable"
   ]
  },
  {
   "cell_type": "code",
   "execution_count": 3,
   "metadata": {
    "collapsed": true
   },
   "outputs": [],
   "source": [
    "import numpy as np\n",
    "from collections import OrderedDict\n",
    "from torch.utils import data\n",
    "from torchvision import datasets, transforms"
   ]
  },
  {
   "cell_type": "code",
   "execution_count": 4,
   "metadata": {
    "collapsed": true
   },
   "outputs": [],
   "source": [
    "a = np.array([1.,2.,3.,4.])\n"
   ]
  },
  {
   "cell_type": "code",
   "execution_count": 5,
   "metadata": {
    "collapsed": true
   },
   "outputs": [],
   "source": [
    "b = torch.Tensor(a)"
   ]
  },
  {
   "cell_type": "code",
   "execution_count": 6,
   "metadata": {
    "collapsed": false
   },
   "outputs": [
    {
     "data": {
      "text/plain": [
       "<function FloatTensor.storage>"
      ]
     },
     "execution_count": 6,
     "metadata": {},
     "output_type": "execute_result"
    }
   ],
   "source": [
    "b.storage"
   ]
  },
  {
   "cell_type": "code",
   "execution_count": 7,
   "metadata": {
    "collapsed": false
   },
   "outputs": [
    {
     "data": {
      "text/plain": [
       "<bound method FloatTensor.storage_type of <class 'torch.FloatTensor'>>"
      ]
     },
     "execution_count": 7,
     "metadata": {},
     "output_type": "execute_result"
    }
   ],
   "source": [
    "b.storage_type"
   ]
  },
  {
   "cell_type": "markdown",
   "metadata": {},
   "source": [
    "- tensor의 Storage에 실제 데이터가 저장되어있다고 봄\n",
    "- b.numpy()  를 하면 numpy 객체 반환"
   ]
  },
  {
   "cell_type": "code",
   "execution_count": 8,
   "metadata": {
    "collapsed": false
   },
   "outputs": [
    {
     "data": {
      "text/plain": [
       "Variable containing:\n",
       " 1\n",
       " 2\n",
       " 3\n",
       " 4\n",
       "[torch.FloatTensor of size 4]"
      ]
     },
     "execution_count": 8,
     "metadata": {},
     "output_type": "execute_result"
    }
   ],
   "source": [
    "c = Variable(b)\n",
    "c"
   ]
  },
  {
   "cell_type": "markdown",
   "metadata": {},
   "source": [
    "- tensor에 Variable을 취할 수 있다\n",
    "- Varaible.data => tensor"
   ]
  },
  {
   "cell_type": "code",
   "execution_count": 9,
   "metadata": {
    "collapsed": false
   },
   "outputs": [
    {
     "data": {
      "text/plain": [
       "Variable containing:\n",
       " 2\n",
       " 3\n",
       " 4\n",
       " 5\n",
       "[torch.FloatTensor of size 4]"
      ]
     },
     "execution_count": 9,
     "metadata": {},
     "output_type": "execute_result"
    }
   ],
   "source": [
    "c.add(1)"
   ]
  },
  {
   "cell_type": "code",
   "execution_count": 10,
   "metadata": {
    "collapsed": false
   },
   "outputs": [
    {
     "data": {
      "text/plain": [
       "Variable containing:\n",
       " 1\n",
       " 2\n",
       " 3\n",
       " 4\n",
       "[torch.FloatTensor of size 4]"
      ]
     },
     "execution_count": 10,
     "metadata": {},
     "output_type": "execute_result"
    }
   ],
   "source": [
    "c"
   ]
  },
  {
   "cell_type": "markdown",
   "metadata": {},
   "source": [
    "- .add는 원래 변수에 영향을 미치지 않는 메소드"
   ]
  },
  {
   "cell_type": "code",
   "execution_count": 11,
   "metadata": {
    "collapsed": false
   },
   "outputs": [
    {
     "data": {
      "text/plain": [
       "Variable containing:\n",
       " 2\n",
       " 3\n",
       " 4\n",
       " 5\n",
       "[torch.FloatTensor of size 4]"
      ]
     },
     "execution_count": 11,
     "metadata": {},
     "output_type": "execute_result"
    }
   ],
   "source": [
    "c.add_(1)\n",
    "c"
   ]
  },
  {
   "cell_type": "markdown",
   "metadata": {},
   "source": [
    "- add_() 는 원래 변수에도 영향을 미치는 메소드"
   ]
  },
  {
   "cell_type": "code",
   "execution_count": 13,
   "metadata": {
    "collapsed": true
   },
   "outputs": [],
   "source": [
    "class NN(nn.Module):\n",
    "    def __init__(self):\n",
    "        super(NN, self).__init__()\n",
    "        self.net = nn.Sequential(\n",
    "        OrderedDict(\n",
    "            [\n",
    "                    ('layer 1', nn.Linear(784,100)),\n",
    "                    ('ReLU 1', nn.ReLU()),\n",
    "                    ('layer 2', nn.Linear(100, 50)),\n",
    "                    ('ReLU 2', nn.ReLU()),\n",
    "                    ('layer 3', nn.Linear(50, 10))\n",
    "                ]\n",
    "            )\n",
    "        )\n",
    "        \n",
    "    def forward(self, x): ## __call__ of nn.Module calls this function.\n",
    "        return self.net(x)"
   ]
  },
  {
   "cell_type": "code",
   "execution_count": 14,
   "metadata": {
    "collapsed": false
   },
   "outputs": [
    {
     "data": {
      "text/plain": [
       "NN (\n",
       "  (net): Sequential (\n",
       "    (layer 1): Linear (784 -> 100)\n",
       "    (ReLU 1): ReLU ()\n",
       "    (layer 2): Linear (100 -> 50)\n",
       "    (ReLU 2): ReLU ()\n",
       "    (layer 3): Linear (50 -> 10)\n",
       "  )\n",
       ")"
      ]
     },
     "execution_count": 14,
     "metadata": {},
     "output_type": "execute_result"
    }
   ],
   "source": [
    "net = NN()\n",
    "net"
   ]
  },
  {
   "cell_type": "code",
   "execution_count": 15,
   "metadata": {
    "collapsed": false
   },
   "outputs": [
    {
     "data": {
      "text/plain": [
       "Variable containing:\n",
       "-0.1766  0.1222  0.0147  0.2770  0.0398  0.0834 -0.2534 -0.2167 -0.0651  0.0993\n",
       "[torch.FloatTensor of size 1x10]"
      ]
     },
     "execution_count": 15,
     "metadata": {},
     "output_type": "execute_result"
    }
   ],
   "source": [
    "x = Variable(torch.randn(1, 784))\n",
    "net(x)  # This calls NN.forward, too"
   ]
  },
  {
   "cell_type": "code",
   "execution_count": 16,
   "metadata": {
    "collapsed": true
   },
   "outputs": [],
   "source": [
    "transform = transforms.Compose(\n",
    "            [\n",
    "                transforms.ToTensor(),\n",
    "                transforms.Normalize((0.1307, ), (0.3081, ))   # MNIST image's avg and std.\n",
    "            ])"
   ]
  },
  {
   "cell_type": "code",
   "execution_count": 17,
   "metadata": {
    "collapsed": false
   },
   "outputs": [
    {
     "name": "stdout",
     "output_type": "stream",
     "text": [
      "Downloading http://yann.lecun.com/exdb/mnist/train-images-idx3-ubyte.gz\n",
      "Downloading http://yann.lecun.com/exdb/mnist/train-labels-idx1-ubyte.gz\n",
      "Downloading http://yann.lecun.com/exdb/mnist/t10k-images-idx3-ubyte.gz\n",
      "Downloading http://yann.lecun.com/exdb/mnist/t10k-labels-idx1-ubyte.gz\n",
      "Processing...\n",
      "Done!\n"
     ]
    }
   ],
   "source": [
    "train_datasets = datasets.MNIST('./', train=True, download=True, transform=transform)\n",
    "train_loader = torch.utils.data.DataLoader(train_datasets, batch_size=32)\n"
   ]
  },
  {
   "cell_type": "code",
   "execution_count": 18,
   "metadata": {
    "collapsed": true
   },
   "outputs": [],
   "source": [
    "criterion = nn.CrossEntropyLoss()  # Criterion means LOSS in PyTorch"
   ]
  },
  {
   "cell_type": "code",
   "execution_count": 19,
   "metadata": {
    "collapsed": false
   },
   "outputs": [
    {
     "data": {
      "text/plain": [
       "<torchvision.datasets.mnist.MNIST at 0x1db81407550>"
      ]
     },
     "execution_count": 19,
     "metadata": {},
     "output_type": "execute_result"
    }
   ],
   "source": [
    "train_datasets"
   ]
  },
  {
   "cell_type": "code",
   "execution_count": 20,
   "metadata": {
    "collapsed": false
   },
   "outputs": [
    {
     "data": {
      "text/plain": [
       "(2, 1)"
      ]
     },
     "execution_count": 20,
     "metadata": {},
     "output_type": "execute_result"
    }
   ],
   "source": [
    "len(train_datasets[0]), len(train_datasets[0][0])"
   ]
  },
  {
   "cell_type": "code",
   "execution_count": 21,
   "metadata": {
    "collapsed": false
   },
   "outputs": [
    {
     "data": {
      "text/plain": [
       "\n",
       "(0 ,.,.) = \n",
       "\n",
       "Columns 0 to 8 \n",
       "  -0.4242 -0.4242 -0.4242 -0.4242 -0.4242 -0.4242 -0.4242 -0.4242 -0.4242\n",
       " -0.4242 -0.4242 -0.4242 -0.4242 -0.4242 -0.4242 -0.4242 -0.4242 -0.4242\n",
       " -0.4242 -0.4242 -0.4242 -0.4242 -0.4242 -0.4242 -0.4242 -0.4242 -0.4242\n",
       " -0.4242 -0.4242 -0.4242 -0.4242 -0.4242 -0.4242 -0.4242 -0.4242 -0.4242\n",
       " -0.4242 -0.4242 -0.4242 -0.4242 -0.4242 -0.4242 -0.4242 -0.4242 -0.4242\n",
       " -0.4242 -0.4242 -0.4242 -0.4242 -0.4242 -0.4242 -0.4242 -0.4242 -0.4242\n",
       " -0.4242 -0.4242 -0.4242 -0.4242 -0.4242 -0.4242 -0.4242 -0.4242 -0.0424\n",
       " -0.4242 -0.4242 -0.4242 -0.4242 -0.4242 -0.4242 -0.4242  0.1995  2.6051\n",
       " -0.4242 -0.4242 -0.4242 -0.4242 -0.4242 -0.4242 -0.4242 -0.1951  2.3633\n",
       " -0.4242 -0.4242 -0.4242 -0.4242 -0.4242 -0.4242 -0.4242 -0.4242  0.5940\n",
       " -0.4242 -0.4242 -0.4242 -0.4242 -0.4242 -0.4242 -0.4242 -0.4242 -0.4242\n",
       " -0.4242 -0.4242 -0.4242 -0.4242 -0.4242 -0.4242 -0.4242 -0.4242 -0.4242\n",
       " -0.4242 -0.4242 -0.4242 -0.4242 -0.4242 -0.4242 -0.4242 -0.4242 -0.4242\n",
       " -0.4242 -0.4242 -0.4242 -0.4242 -0.4242 -0.4242 -0.4242 -0.4242 -0.4242\n",
       " -0.4242 -0.4242 -0.4242 -0.4242 -0.4242 -0.4242 -0.4242 -0.4242 -0.4242\n",
       " -0.4242 -0.4242 -0.4242 -0.4242 -0.4242 -0.4242 -0.4242 -0.4242 -0.4242\n",
       " -0.4242 -0.4242 -0.4242 -0.4242 -0.4242 -0.4242 -0.4242 -0.4242 -0.4242\n",
       " -0.4242 -0.4242 -0.4242 -0.4242 -0.4242 -0.4242 -0.4242 -0.4242 -0.4242\n",
       " -0.4242 -0.4242 -0.4242 -0.4242 -0.4242 -0.4242 -0.4242 -0.4242 -0.4242\n",
       " -0.4242 -0.4242 -0.4242 -0.4242 -0.4242 -0.4242 -0.4242 -0.4242 -0.4242\n",
       " -0.4242 -0.4242 -0.4242 -0.4242 -0.4242 -0.4242 -0.4242 -0.4242 -0.4242\n",
       " -0.4242 -0.4242 -0.4242 -0.4242 -0.4242 -0.4242 -0.4242 -0.4242 -0.1315\n",
       " -0.4242 -0.4242 -0.4242 -0.4242 -0.4242 -0.4242 -0.1951  1.7523  2.3633\n",
       " -0.4242 -0.4242 -0.4242 -0.4242  0.2758  1.7650  2.4524  2.7960  2.7960\n",
       " -0.4242 -0.4242 -0.4242 -0.4242  1.3068  2.7960  2.7960  2.7960  2.2742\n",
       " -0.4242 -0.4242 -0.4242 -0.4242 -0.4242 -0.4242 -0.4242 -0.4242 -0.4242\n",
       " -0.4242 -0.4242 -0.4242 -0.4242 -0.4242 -0.4242 -0.4242 -0.4242 -0.4242\n",
       " -0.4242 -0.4242 -0.4242 -0.4242 -0.4242 -0.4242 -0.4242 -0.4242 -0.4242\n",
       "\n",
       "Columns 9 to 17 \n",
       "  -0.4242 -0.4242 -0.4242 -0.4242 -0.4242 -0.4242 -0.4242 -0.4242 -0.4242\n",
       " -0.4242 -0.4242 -0.4242 -0.4242 -0.4242 -0.4242 -0.4242 -0.4242 -0.4242\n",
       " -0.4242 -0.4242 -0.4242 -0.4242 -0.4242 -0.4242 -0.4242 -0.4242 -0.4242\n",
       " -0.4242 -0.4242 -0.4242 -0.4242 -0.4242 -0.4242 -0.4242 -0.4242 -0.4242\n",
       " -0.4242 -0.4242 -0.4242 -0.4242 -0.4242 -0.4242 -0.4242 -0.4242 -0.4242\n",
       " -0.4242 -0.4242 -0.4242 -0.3860 -0.1951 -0.1951 -0.1951  1.1795  1.3068\n",
       "  0.0340  0.7722  1.5359  1.7396  2.7960  2.7960  2.7960  2.7960  2.7960\n",
       "  2.7960  2.7960  2.7960  2.7960  2.7960  2.7960  2.7960  2.7960  2.7706\n",
       "  2.7960  2.7960  2.7960  2.7960  2.7960  2.0960  1.8923  2.7197  2.6433\n",
       "  1.5614  0.9377  2.7960  2.7960  2.1851 -0.2842 -0.4242  0.1231  1.5359\n",
       " -0.2460 -0.4115  1.5359  2.7960  0.7213 -0.4242 -0.4242 -0.4242 -0.4242\n",
       " -0.4242 -0.4242  1.3450  2.7960  1.9942 -0.3988 -0.4242 -0.4242 -0.4242\n",
       " -0.4242 -0.4242 -0.2842  1.9942  2.7960  0.4668 -0.4242 -0.4242 -0.4242\n",
       " -0.4242 -0.4242 -0.4242  0.0213  2.6433  2.4396  1.6123  0.9504 -0.4115\n",
       " -0.4242 -0.4242 -0.4242 -0.4242  0.6068  2.6306  2.7960  2.7960  1.0904\n",
       " -0.4242 -0.4242 -0.4242 -0.4242 -0.4242  0.1486  1.9432  2.7960  2.7960\n",
       " -0.4242 -0.4242 -0.4242 -0.4242 -0.4242 -0.4242 -0.2206  0.7595  2.7833\n",
       " -0.4242 -0.4242 -0.4242 -0.4242 -0.4242 -0.4242 -0.4242 -0.4242  2.7451\n",
       " -0.4242 -0.4242 -0.4242 -0.4242 -0.4242  0.1613  1.2305  1.9051  2.7960\n",
       " -0.4242 -0.4242 -0.4242  0.0722  1.4596  2.4906  2.7960  2.7960  2.7960\n",
       " -0.4242 -0.1187  1.0268  2.3887  2.7960  2.7960  2.7960  2.7960  2.1342\n",
       "  0.4159  2.2869  2.7960  2.7960  2.7960  2.7960  2.0960  0.6068 -0.3988\n",
       "  2.7960  2.7960  2.7960  2.7960  2.0578  0.5940 -0.3097 -0.4242 -0.4242\n",
       "  2.7960  2.7960  2.6815  1.2686 -0.2842 -0.4242 -0.4242 -0.4242 -0.4242\n",
       "  1.2941  1.2559 -0.2206 -0.4242 -0.4242 -0.4242 -0.4242 -0.4242 -0.4242\n",
       " -0.4242 -0.4242 -0.4242 -0.4242 -0.4242 -0.4242 -0.4242 -0.4242 -0.4242\n",
       " -0.4242 -0.4242 -0.4242 -0.4242 -0.4242 -0.4242 -0.4242 -0.4242 -0.4242\n",
       " -0.4242 -0.4242 -0.4242 -0.4242 -0.4242 -0.4242 -0.4242 -0.4242 -0.4242\n",
       "\n",
       "Columns 18 to 26 \n",
       "  -0.4242 -0.4242 -0.4242 -0.4242 -0.4242 -0.4242 -0.4242 -0.4242 -0.4242\n",
       " -0.4242 -0.4242 -0.4242 -0.4242 -0.4242 -0.4242 -0.4242 -0.4242 -0.4242\n",
       " -0.4242 -0.4242 -0.4242 -0.4242 -0.4242 -0.4242 -0.4242 -0.4242 -0.4242\n",
       " -0.4242 -0.4242 -0.4242 -0.4242 -0.4242 -0.4242 -0.4242 -0.4242 -0.4242\n",
       " -0.4242 -0.4242 -0.4242 -0.4242 -0.4242 -0.4242 -0.4242 -0.4242 -0.4242\n",
       "  1.8032 -0.0933  1.6887  2.8215  2.7197  1.1923 -0.4242 -0.4242 -0.4242\n",
       "  2.4396  1.7650  2.7960  2.6560  2.0578  0.3904 -0.4242 -0.4242 -0.4242\n",
       "  0.7595  0.6195  0.6195  0.2886  0.0722 -0.4242 -0.4242 -0.4242 -0.4242\n",
       " -0.4242 -0.4242 -0.4242 -0.4242 -0.4242 -0.4242 -0.4242 -0.4242 -0.4242\n",
       " -0.4242 -0.4242 -0.4242 -0.4242 -0.4242 -0.4242 -0.4242 -0.4242 -0.4242\n",
       " -0.4242 -0.4242 -0.4242 -0.4242 -0.4242 -0.4242 -0.4242 -0.4242 -0.4242\n",
       " -0.4242 -0.4242 -0.4242 -0.4242 -0.4242 -0.4242 -0.4242 -0.4242 -0.4242\n",
       " -0.4242 -0.4242 -0.4242 -0.4242 -0.4242 -0.4242 -0.4242 -0.4242 -0.4242\n",
       " -0.4242 -0.4242 -0.4242 -0.4242 -0.4242 -0.4242 -0.4242 -0.4242 -0.4242\n",
       " -0.1060 -0.4242 -0.4242 -0.4242 -0.4242 -0.4242 -0.4242 -0.4242 -0.4242\n",
       "  1.4850 -0.0806 -0.4242 -0.4242 -0.4242 -0.4242 -0.4242 -0.4242 -0.4242\n",
       "  2.7960  1.9560 -0.4242 -0.4242 -0.4242 -0.4242 -0.4242 -0.4242 -0.4242\n",
       "  2.7960  2.7451  0.3904 -0.4242 -0.4242 -0.4242 -0.4242 -0.4242 -0.4242\n",
       "  2.7960  2.2105 -0.3988 -0.4242 -0.4242 -0.4242 -0.4242 -0.4242 -0.4242\n",
       "  2.7578  1.8923 -0.4242 -0.4242 -0.4242 -0.4242 -0.4242 -0.4242 -0.4242\n",
       "  0.5686 -0.4242 -0.4242 -0.4242 -0.4242 -0.4242 -0.4242 -0.4242 -0.4242\n",
       " -0.4242 -0.4242 -0.4242 -0.4242 -0.4242 -0.4242 -0.4242 -0.4242 -0.4242\n",
       " -0.4242 -0.4242 -0.4242 -0.4242 -0.4242 -0.4242 -0.4242 -0.4242 -0.4242\n",
       " -0.4242 -0.4242 -0.4242 -0.4242 -0.4242 -0.4242 -0.4242 -0.4242 -0.4242\n",
       " -0.4242 -0.4242 -0.4242 -0.4242 -0.4242 -0.4242 -0.4242 -0.4242 -0.4242\n",
       " -0.4242 -0.4242 -0.4242 -0.4242 -0.4242 -0.4242 -0.4242 -0.4242 -0.4242\n",
       " -0.4242 -0.4242 -0.4242 -0.4242 -0.4242 -0.4242 -0.4242 -0.4242 -0.4242\n",
       " -0.4242 -0.4242 -0.4242 -0.4242 -0.4242 -0.4242 -0.4242 -0.4242 -0.4242\n",
       "\n",
       "Columns 27 to 27 \n",
       "  -0.4242\n",
       " -0.4242\n",
       " -0.4242\n",
       " -0.4242\n",
       " -0.4242\n",
       " -0.4242\n",
       " -0.4242\n",
       " -0.4242\n",
       " -0.4242\n",
       " -0.4242\n",
       " -0.4242\n",
       " -0.4242\n",
       " -0.4242\n",
       " -0.4242\n",
       " -0.4242\n",
       " -0.4242\n",
       " -0.4242\n",
       " -0.4242\n",
       " -0.4242\n",
       " -0.4242\n",
       " -0.4242\n",
       " -0.4242\n",
       " -0.4242\n",
       " -0.4242\n",
       " -0.4242\n",
       " -0.4242\n",
       " -0.4242\n",
       " -0.4242\n",
       "[torch.FloatTensor of size 1x28x28]"
      ]
     },
     "execution_count": 21,
     "metadata": {},
     "output_type": "execute_result"
    }
   ],
   "source": [
    "train_datasets[0][0]"
   ]
  },
  {
   "cell_type": "code",
   "execution_count": 22,
   "metadata": {
    "collapsed": false
   },
   "outputs": [
    {
     "data": {
      "text/plain": [
       "5"
      ]
     },
     "execution_count": 22,
     "metadata": {},
     "output_type": "execute_result"
    }
   ],
   "source": [
    "train_datasets[0][1]\n"
   ]
  },
  {
   "cell_type": "markdown",
   "metadata": {},
   "source": [
    "- train_datasets[i][0] 는 1x28x28의 이미지 픽셀 데이터, \n",
    "- train_datasets[i][1] 는 이미지 픽셀 데이터가 의미하는 값(0~9)"
   ]
  },
  {
   "cell_type": "code",
   "execution_count": 23,
   "metadata": {
    "collapsed": true
   },
   "outputs": [],
   "source": [
    "optimizer = optim.Adadelta(net.parameters())"
   ]
  },
  {
   "cell_type": "code",
   "execution_count": 24,
   "metadata": {
    "collapsed": true
   },
   "outputs": [],
   "source": [
    "for (image, label ) in train_loader:\n",
    "    image = Variable(image.view(-1, 28*28))   # Reshape\n",
    "    label = Variable(label)\n",
    "    prediction = net(image)\n",
    "    \n",
    "    loss= criterion(prediction, label)\n",
    "    \n",
    "    optimizer.zero_grad() # 모든 optimized Varaible의 Gradient를 clear한다\n",
    "    loss.backward()\n",
    "    optimizer.step()\n",
    "    "
   ]
  },
  {
   "cell_type": "code",
   "execution_count": 25,
   "metadata": {
    "collapsed": true
   },
   "outputs": [],
   "source": [
    "test_datasets = datasets.MNIST('./', train=False, download=True, transform=transform)\n",
    "test_loader = torch.utils.data.DataLoader(test_datasets, batch_size=32)\n"
   ]
  },
  {
   "cell_type": "code",
   "execution_count": 27,
   "metadata": {
    "collapsed": false
   },
   "outputs": [],
   "source": [
    "for (image, label ) in test_loader:\n",
    "    image = Variable(image.view(-1, 28*28))   # Reshape\n",
    "    label = Variable(label)\n",
    "    prediction = net(image)\n",
    "\n",
    "    #print(prediction[:5].max(1)[1])\n",
    "    #print(label[:5])\n",
    "    "
   ]
  },
  {
   "cell_type": "code",
   "execution_count": null,
   "metadata": {
    "collapsed": true
   },
   "outputs": [],
   "source": []
  }
 ],
 "metadata": {
  "kernelspec": {
   "display_name": "Python [conda env:torch]",
   "language": "python",
   "name": "conda-env-torch-py"
  },
  "language_info": {
   "codemirror_mode": {
    "name": "ipython",
    "version": 3
   },
   "file_extension": ".py",
   "mimetype": "text/x-python",
   "name": "python",
   "nbconvert_exporter": "python",
   "pygments_lexer": "ipython3",
   "version": "3.6.1"
  }
 },
 "nbformat": 4,
 "nbformat_minor": 1
}
