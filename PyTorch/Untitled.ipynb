{
 "cells": [
  {
   "cell_type": "code",
   "execution_count": 1,
   "metadata": {
    "collapsed": true
   },
   "outputs": [],
   "source": [
    "import torch\n",
    "import torch.nn as nn\n",
    "import torch.optim as optim\n",
    "from torch.autograd import Variable\n",
    "import numpy as np \n",
    "from collections import OrderedDict\n",
    "from torch.utils import data\n",
    "from torchvision import datasets, transforms"
   ]
  },
  {
   "cell_type": "code",
   "execution_count": 2,
   "metadata": {
    "collapsed": false
   },
   "outputs": [
    {
     "data": {
      "text/plain": [
       "\"class SoundDataset(data.Dataset):\\n    def __init__(self, input_dtft, output_data, sound_type):\\n        pass\\n    \\n    def __getitem__(self, index):\\n        pass\\n    \\n    def __len__(self):\\n        pass\\n        \\nclass DeepNeuralNetwork(nn.Module):\\n    def __init__(self):\\n        super(DeepNeuralNetwork, self).__init__()\\n        self.net = nn.Sequential(\\n        OrderedDict(\\n            [\\n                    ('Layer 1', nn.Linear()),\\n                    ('tanh 1', nn.Tanh()),\\n                    ('Layer 2', nn.Linear()),\\n                    ('tanh 2', nn.Tanh())\\n                ])\\n        \\n        )\""
      ]
     },
     "execution_count": 2,
     "metadata": {},
     "output_type": "execute_result"
    }
   ],
   "source": [
    "\"\"\"class SoundDataset(data.Dataset):\n",
    "    def __init__(self, input_dtft, output_data, sound_type):\n",
    "        pass\n",
    "    \n",
    "    def __getitem__(self, index):\n",
    "        pass\n",
    "    \n",
    "    def __len__(self):\n",
    "        pass\n",
    "        \n",
    "class DeepNeuralNetwork(nn.Module):\n",
    "    def __init__(self):\n",
    "        super(DeepNeuralNetwork, self).__init__()\n",
    "        self.net = nn.Sequential(\n",
    "        OrderedDict(\n",
    "            [\n",
    "                    ('Layer 1', nn.Linear()),\n",
    "                    ('tanh 1', nn.Tanh()),\n",
    "                    ('Layer 2', nn.Linear()),\n",
    "                    ('tanh 2', nn.Tanh())\n",
    "                ])\n",
    "        \n",
    "        )\"\"\""
   ]
  },
  {
   "cell_type": "code",
   "execution_count": null,
   "metadata": {
    "collapsed": true
   },
   "outputs": [],
   "source": [
    "nn.BatchNorm2d()"
   ]
  }
 ],
 "metadata": {
  "anaconda-cloud": {},
  "kernelspec": {
   "display_name": "Python [conda env:torch]",
   "language": "python",
   "name": "conda-env-torch-py"
  },
  "language_info": {
   "codemirror_mode": {
    "name": "ipython",
    "version": 3
   },
   "file_extension": ".py",
   "mimetype": "text/x-python",
   "name": "python",
   "nbconvert_exporter": "python",
   "pygments_lexer": "ipython3",
   "version": "3.6.1"
  }
 },
 "nbformat": 4,
 "nbformat_minor": 1
}
