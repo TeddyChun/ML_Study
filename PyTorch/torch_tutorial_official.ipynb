{
 "cells": [
  {
   "cell_type": "markdown",
   "metadata": {},
   "source": [
    "# nn module #\n",
    "- 텐서플로우에서의 Keras와 같이, 뉴럴넷을 더욱 추상화하여 제공하는 인터페이스.\n",
    "- ** nn package ** 는 몇 개의 module을 정의하는데, 각 모듈은 대략 한 개씩의 Layer를 의미한다.\n",
    "> model = torch.nn.Sequential(\n",
    ">    torch.nn.Linear(D_in, H),\n",
    ">    torch.nn.ReLU(),\n",
    ">    torch.nn.Linear(H, D_out),\n",
    ")\n",
    "    \n",
    "- 한 개의 모듈은 Input, Output, Hidden state(학습가능한 Variable 값)를 갖는다.\n",
    "- ** nn package ** 는 여러 가지 쓸모있는 loss function도 제공한다.\n",
    "\n"
   ]
  },
  {
   "cell_type": "markdown",
   "metadata": {
    "collapsed": true
   },
   "source": [
    "## optim module ##\n",
    "- nn module을 활용하여 우리는 .data를 Learnable parameter를 갖고 있는 Varaible로 변환시킴으로써 Layer의 weight를 학습하였다.\n",
    "- SGD Algorithm과 같이 간단한 최적화 알고리즘은 별 문제가 안되지만, 우리는 실제 상황에서 **Adam, AdaGrad, RMSProp** 등과 같은 복잡하고 어려운 최적화 기법을 사용해야한다.\n",
    "- ** optim ** package는 이러한 알고리즘을 추상화한 모듈을 제공한다.\n",
    "- nn module로 model을 define하고, optim module로 이러한 model을 최적화한다.\n"
   ]
  },
  {
   "cell_type": "code",
   "execution_count": null,
   "metadata": {
    "collapsed": true
   },
   "outputs": [],
   "source": []
  }
 ],
 "metadata": {
  "kernelspec": {
   "display_name": "Python 3",
   "language": "python",
   "name": "python3"
  },
  "language_info": {
   "codemirror_mode": {
    "name": "ipython",
    "version": 3
   },
   "file_extension": ".py",
   "mimetype": "text/x-python",
   "name": "python",
   "nbconvert_exporter": "python",
   "pygments_lexer": "ipython3",
   "version": "3.6.1"
  }
 },
 "nbformat": 4,
 "nbformat_minor": 2
}
